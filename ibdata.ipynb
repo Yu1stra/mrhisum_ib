{
 "cells": [
  {
   "cell_type": "code",
   "execution_count": 1,
   "id": "04c3b096-7661-4a8d-9128-1cc704c431e2",
   "metadata": {},
   "outputs": [
    {
     "data": {
      "text/plain": [
       "beta(ib)              NaN\n",
       "Unnamed: 1          MAP50\n",
       "0(base)          57.00323\n",
       "1.00E-02          54.4763\n",
       "1.00E-03         56.70968\n",
       "1.00E-04         57.33369\n",
       "1.00E-05         54.41936\n",
       "1.00E-06          57.3754\n",
       "1.00E+01        52.643731\n",
       "1.00E+00        49.417409\n",
       "0(base).1        60.55846\n",
       "1.00E-01         49.92691\n",
       "1.00E-02.1        52.5355\n",
       "1.00E-03.1       49.58553\n",
       "1.00E-04.1       53.48415\n",
       "1.00E-05.1         49.414\n",
       "1.00E-06.1       54.44471\n",
       "0(base).2     61.07118731\n",
       "1.00E-02.2      59.147434\n",
       "1.00E-03.2      57.006196\n",
       "1.00E-04.2      60.969885\n",
       "1.00E-05.2       60.84351\n",
       "1.00E-06.2      56.673977\n",
       "Name: 2, dtype: object"
      ]
     },
     "execution_count": 1,
     "metadata": {},
     "output_type": "execute_result"
    }
   ],
   "source": [
    "import pandas as pd\n",
    "from tqdm import tqdm\n",
    "import os\n",
    "data = pd.read_csv(\"ib_data.csv\")\n",
    "visual=['0(base)','1.00E-02','1.00E-03','1.00E-04','1.00E-05','1.00E-06']\n",
    "audio=['1.00E+01','1.00E+00','0(base).1','1.00E-01','1.00E-02.1','1.00E-03.1','1.00E-04.1','1.00E-05.1','1.00E-06.1']\n",
    "multi_lib=['0(base).2','1.00E-02.2','1.00E-03.2','1.00E-04.2','1.00E-05.2','1.00E-06.2']\n",
    "cate=['Arts','Autos','Beauty','Books','Business','Computers','Finance','Food',\n",
    "        'Games','Health','Hobbies','Home','Internet','Jobs','Law','mr(whole)','News',\n",
    "        'People','Pets','Real','Reference','Science','Shopping','Sports','Travel']\n",
    "data.iloc[2]"
   ]
  },
  {
   "cell_type": "code",
   "execution_count": 2,
   "id": "847610f2-3527-4652-91e2-658d4649a1ed",
   "metadata": {},
   "outputs": [
    {
     "data": {
      "text/plain": [
       "'57.00323'"
      ]
     },
     "execution_count": 2,
     "metadata": {},
     "output_type": "execute_result"
    }
   ],
   "source": [
    "data.iloc[2]['0(base)']"
   ]
  },
  {
   "cell_type": "code",
   "execution_count": 3,
   "id": "8124958c-a25a-44aa-9d4b-9a1f03845464",
   "metadata": {},
   "outputs": [
    {
     "name": "stderr",
     "output_type": "stream",
     "text": [
      "100%|██████████| 76/76 [00:00<00:00, 1106.54it/s]\n"
     ]
    }
   ],
   "source": [
    "fscore_v=[]\n",
    "map50_v=[]\n",
    "map15_v=[]\n",
    "fscore_a=[]\n",
    "map50_a=[]\n",
    "map15_a=[]\n",
    "fscore_lib=[]\n",
    "map50_lib=[]\n",
    "map15_lib=[]\n",
    "for i in tqdm(range(len(data))):\n",
    "    if i != 0:\n",
    "        if i%3 == 1:\n",
    "            tmp1=[]\n",
    "            for j in visual:\n",
    "                tmp1.append(float(data.iloc[i][j]))\n",
    "            fscore_v.append(tmp1)\n",
    "            \n",
    "            tmp1=[]\n",
    "            for j in audio:\n",
    "                tmp1.append(float(data.iloc[i][j]))\n",
    "            fscore_a.append(tmp1)\n",
    "            \n",
    "            tmp1=[]\n",
    "            for j in multi_lib:\n",
    "                tmp1.append(float(data.iloc[i][j]))\n",
    "            fscore_lib.append(tmp1)\n",
    "        elif i%3 == 2:\n",
    "            tmp2=[]\n",
    "            for j in visual:\n",
    "                tmp2.append(float(data.iloc[i][j]))\n",
    "            map50_v.append(tmp2)\n",
    "            \n",
    "            tmp2=[]\n",
    "            for j in audio:\n",
    "                tmp2.append(float(data.iloc[i][j]))\n",
    "            map50_a.append(tmp2)\n",
    "            \n",
    "            tmp2=[]\n",
    "            for j in multi_lib:\n",
    "                tmp2.append(float(data.iloc[i][j]))\n",
    "            map50_lib.append(tmp2) \n",
    "        elif i%3 == 0:\n",
    "            tmp3=[]\n",
    "            for j in visual:\n",
    "                tmp3.append(float(data.iloc[i][j]))\n",
    "            map15_v.append(tmp3)\n",
    "            \n",
    "            tmp3=[]\n",
    "            for j in audio:\n",
    "                tmp3.append(float(data.iloc[i][j]))\n",
    "            map15_a.append(tmp3)\n",
    "            \n",
    "            tmp3=[]\n",
    "            for j in multi_lib:\n",
    "                tmp3.append(float(data.iloc[i][j]))\n",
    "            map15_lib.append(tmp3) \n",
    "        else:\n",
    "            print(f\"{i} th is wrong\")\n"
   ]
  },
  {
   "cell_type": "code",
   "execution_count": 4,
   "id": "5d760818-7320-419e-9e2a-6e87c4d57c57",
   "metadata": {},
   "outputs": [
    {
     "data": {
      "text/plain": [
       "25"
      ]
     },
     "execution_count": 4,
     "metadata": {},
     "output_type": "execute_result"
    }
   ],
   "source": [
    "len(fscore_v)"
   ]
  },
  {
   "cell_type": "code",
   "execution_count": 5,
   "id": "2bc95152-275e-4822-bc0b-81a27befccfc",
   "metadata": {},
   "outputs": [
    {
     "name": "stderr",
     "output_type": "stream",
     "text": [
      "/tmp/ipykernel_228479/3727121423.py:27: RuntimeWarning: More than 20 figures have been opened. Figures created through the pyplot interface (`matplotlib.pyplot.figure`) are retained until explicitly closed and may consume too much memory. (To control this warning, see the rcParam `figure.max_open_warning`). Consider using `matplotlib.pyplot.close()`.\n",
      "  plt.figure(figsize=(12, 6))\n"
     ]
    },
    {
     "data": {
      "text/plain": [
       "<Figure size 1200x600 with 0 Axes>"
      ]
     },
     "metadata": {},
     "output_type": "display_data"
    },
    {
     "data": {
      "text/plain": [
       "<Figure size 1200x600 with 0 Axes>"
      ]
     },
     "metadata": {},
     "output_type": "display_data"
    },
    {
     "data": {
      "text/plain": [
       "<Figure size 1200x600 with 0 Axes>"
      ]
     },
     "metadata": {},
     "output_type": "display_data"
    },
    {
     "data": {
      "text/plain": [
       "<Figure size 1200x600 with 0 Axes>"
      ]
     },
     "metadata": {},
     "output_type": "display_data"
    },
    {
     "data": {
      "text/plain": [
       "<Figure size 1200x600 with 0 Axes>"
      ]
     },
     "metadata": {},
     "output_type": "display_data"
    },
    {
     "data": {
      "text/plain": [
       "<Figure size 1200x600 with 0 Axes>"
      ]
     },
     "metadata": {},
     "output_type": "display_data"
    },
    {
     "data": {
      "text/plain": [
       "<Figure size 1200x600 with 0 Axes>"
      ]
     },
     "metadata": {},
     "output_type": "display_data"
    },
    {
     "data": {
      "text/plain": [
       "<Figure size 1200x600 with 0 Axes>"
      ]
     },
     "metadata": {},
     "output_type": "display_data"
    },
    {
     "data": {
      "text/plain": [
       "<Figure size 1200x600 with 0 Axes>"
      ]
     },
     "metadata": {},
     "output_type": "display_data"
    },
    {
     "data": {
      "text/plain": [
       "<Figure size 1200x600 with 0 Axes>"
      ]
     },
     "metadata": {},
     "output_type": "display_data"
    },
    {
     "data": {
      "text/plain": [
       "<Figure size 1200x600 with 0 Axes>"
      ]
     },
     "metadata": {},
     "output_type": "display_data"
    },
    {
     "data": {
      "text/plain": [
       "<Figure size 1200x600 with 0 Axes>"
      ]
     },
     "metadata": {},
     "output_type": "display_data"
    },
    {
     "data": {
      "text/plain": [
       "<Figure size 1200x600 with 0 Axes>"
      ]
     },
     "metadata": {},
     "output_type": "display_data"
    },
    {
     "data": {
      "text/plain": [
       "<Figure size 1200x600 with 0 Axes>"
      ]
     },
     "metadata": {},
     "output_type": "display_data"
    },
    {
     "data": {
      "text/plain": [
       "<Figure size 1200x600 with 0 Axes>"
      ]
     },
     "metadata": {},
     "output_type": "display_data"
    },
    {
     "data": {
      "text/plain": [
       "<Figure size 1200x600 with 0 Axes>"
      ]
     },
     "metadata": {},
     "output_type": "display_data"
    },
    {
     "data": {
      "text/plain": [
       "<Figure size 1200x600 with 0 Axes>"
      ]
     },
     "metadata": {},
     "output_type": "display_data"
    },
    {
     "data": {
      "text/plain": [
       "<Figure size 1200x600 with 0 Axes>"
      ]
     },
     "metadata": {},
     "output_type": "display_data"
    },
    {
     "data": {
      "text/plain": [
       "<Figure size 1200x600 with 0 Axes>"
      ]
     },
     "metadata": {},
     "output_type": "display_data"
    },
    {
     "data": {
      "text/plain": [
       "<Figure size 1200x600 with 0 Axes>"
      ]
     },
     "metadata": {},
     "output_type": "display_data"
    },
    {
     "data": {
      "text/plain": [
       "<Figure size 1200x600 with 0 Axes>"
      ]
     },
     "metadata": {},
     "output_type": "display_data"
    },
    {
     "data": {
      "text/plain": [
       "<Figure size 1200x600 with 0 Axes>"
      ]
     },
     "metadata": {},
     "output_type": "display_data"
    },
    {
     "data": {
      "text/plain": [
       "<Figure size 1200x600 with 0 Axes>"
      ]
     },
     "metadata": {},
     "output_type": "display_data"
    },
    {
     "data": {
      "text/plain": [
       "<Figure size 1200x600 with 0 Axes>"
      ]
     },
     "metadata": {},
     "output_type": "display_data"
    },
    {
     "data": {
      "text/plain": [
       "<Figure size 1200x600 with 0 Axes>"
      ]
     },
     "metadata": {},
     "output_type": "display_data"
    },
    {
     "data": {
      "text/plain": [
       "<Figure size 1200x600 with 0 Axes>"
      ]
     },
     "metadata": {},
     "output_type": "display_data"
    },
    {
     "data": {
      "text/plain": [
       "<Figure size 1200x600 with 0 Axes>"
      ]
     },
     "metadata": {},
     "output_type": "display_data"
    },
    {
     "data": {
      "text/plain": [
       "<Figure size 1200x600 with 0 Axes>"
      ]
     },
     "metadata": {},
     "output_type": "display_data"
    },
    {
     "data": {
      "text/plain": [
       "<Figure size 1200x600 with 0 Axes>"
      ]
     },
     "metadata": {},
     "output_type": "display_data"
    },
    {
     "data": {
      "text/plain": [
       "<Figure size 1200x600 with 0 Axes>"
      ]
     },
     "metadata": {},
     "output_type": "display_data"
    },
    {
     "data": {
      "text/plain": [
       "<Figure size 1200x600 with 0 Axes>"
      ]
     },
     "metadata": {},
     "output_type": "display_data"
    },
    {
     "data": {
      "text/plain": [
       "<Figure size 1200x600 with 0 Axes>"
      ]
     },
     "metadata": {},
     "output_type": "display_data"
    },
    {
     "data": {
      "text/plain": [
       "<Figure size 1200x600 with 0 Axes>"
      ]
     },
     "metadata": {},
     "output_type": "display_data"
    },
    {
     "data": {
      "text/plain": [
       "<Figure size 1200x600 with 0 Axes>"
      ]
     },
     "metadata": {},
     "output_type": "display_data"
    },
    {
     "data": {
      "text/plain": [
       "<Figure size 1200x600 with 0 Axes>"
      ]
     },
     "metadata": {},
     "output_type": "display_data"
    },
    {
     "data": {
      "text/plain": [
       "<Figure size 1200x600 with 0 Axes>"
      ]
     },
     "metadata": {},
     "output_type": "display_data"
    },
    {
     "data": {
      "text/plain": [
       "<Figure size 1200x600 with 0 Axes>"
      ]
     },
     "metadata": {},
     "output_type": "display_data"
    },
    {
     "data": {
      "text/plain": [
       "<Figure size 1200x600 with 0 Axes>"
      ]
     },
     "metadata": {},
     "output_type": "display_data"
    },
    {
     "data": {
      "text/plain": [
       "<Figure size 1200x600 with 0 Axes>"
      ]
     },
     "metadata": {},
     "output_type": "display_data"
    },
    {
     "data": {
      "text/plain": [
       "<Figure size 1200x600 with 0 Axes>"
      ]
     },
     "metadata": {},
     "output_type": "display_data"
    },
    {
     "data": {
      "text/plain": [
       "<Figure size 1200x600 with 0 Axes>"
      ]
     },
     "metadata": {},
     "output_type": "display_data"
    },
    {
     "data": {
      "text/plain": [
       "<Figure size 1200x600 with 0 Axes>"
      ]
     },
     "metadata": {},
     "output_type": "display_data"
    },
    {
     "data": {
      "text/plain": [
       "<Figure size 1200x600 with 0 Axes>"
      ]
     },
     "metadata": {},
     "output_type": "display_data"
    },
    {
     "data": {
      "text/plain": [
       "<Figure size 1200x600 with 0 Axes>"
      ]
     },
     "metadata": {},
     "output_type": "display_data"
    },
    {
     "data": {
      "text/plain": [
       "<Figure size 1200x600 with 0 Axes>"
      ]
     },
     "metadata": {},
     "output_type": "display_data"
    },
    {
     "data": {
      "text/plain": [
       "<Figure size 1200x600 with 0 Axes>"
      ]
     },
     "metadata": {},
     "output_type": "display_data"
    },
    {
     "data": {
      "text/plain": [
       "<Figure size 1200x600 with 0 Axes>"
      ]
     },
     "metadata": {},
     "output_type": "display_data"
    },
    {
     "data": {
      "text/plain": [
       "<Figure size 1200x600 with 0 Axes>"
      ]
     },
     "metadata": {},
     "output_type": "display_data"
    },
    {
     "data": {
      "text/plain": [
       "<Figure size 1200x600 with 0 Axes>"
      ]
     },
     "metadata": {},
     "output_type": "display_data"
    },
    {
     "data": {
      "text/plain": [
       "<Figure size 1200x600 with 0 Axes>"
      ]
     },
     "metadata": {},
     "output_type": "display_data"
    },
    {
     "data": {
      "text/plain": [
       "<Figure size 1200x600 with 0 Axes>"
      ]
     },
     "metadata": {},
     "output_type": "display_data"
    },
    {
     "data": {
      "text/plain": [
       "<Figure size 1200x600 with 0 Axes>"
      ]
     },
     "metadata": {},
     "output_type": "display_data"
    },
    {
     "data": {
      "text/plain": [
       "<Figure size 1200x600 with 0 Axes>"
      ]
     },
     "metadata": {},
     "output_type": "display_data"
    },
    {
     "data": {
      "text/plain": [
       "<Figure size 1200x600 with 0 Axes>"
      ]
     },
     "metadata": {},
     "output_type": "display_data"
    },
    {
     "data": {
      "text/plain": [
       "<Figure size 1200x600 with 0 Axes>"
      ]
     },
     "metadata": {},
     "output_type": "display_data"
    },
    {
     "data": {
      "text/plain": [
       "<Figure size 1200x600 with 0 Axes>"
      ]
     },
     "metadata": {},
     "output_type": "display_data"
    },
    {
     "data": {
      "text/plain": [
       "<Figure size 1200x600 with 0 Axes>"
      ]
     },
     "metadata": {},
     "output_type": "display_data"
    },
    {
     "data": {
      "text/plain": [
       "<Figure size 1200x600 with 0 Axes>"
      ]
     },
     "metadata": {},
     "output_type": "display_data"
    },
    {
     "data": {
      "text/plain": [
       "<Figure size 1200x600 with 0 Axes>"
      ]
     },
     "metadata": {},
     "output_type": "display_data"
    },
    {
     "data": {
      "text/plain": [
       "<Figure size 1200x600 with 0 Axes>"
      ]
     },
     "metadata": {},
     "output_type": "display_data"
    },
    {
     "data": {
      "text/plain": [
       "<Figure size 1200x600 with 0 Axes>"
      ]
     },
     "metadata": {},
     "output_type": "display_data"
    },
    {
     "data": {
      "text/plain": [
       "<Figure size 1200x600 with 0 Axes>"
      ]
     },
     "metadata": {},
     "output_type": "display_data"
    },
    {
     "data": {
      "text/plain": [
       "<Figure size 1200x600 with 0 Axes>"
      ]
     },
     "metadata": {},
     "output_type": "display_data"
    },
    {
     "data": {
      "text/plain": [
       "<Figure size 1200x600 with 0 Axes>"
      ]
     },
     "metadata": {},
     "output_type": "display_data"
    },
    {
     "data": {
      "text/plain": [
       "<Figure size 1200x600 with 0 Axes>"
      ]
     },
     "metadata": {},
     "output_type": "display_data"
    },
    {
     "data": {
      "text/plain": [
       "<Figure size 1200x600 with 0 Axes>"
      ]
     },
     "metadata": {},
     "output_type": "display_data"
    },
    {
     "data": {
      "text/plain": [
       "<Figure size 1200x600 with 0 Axes>"
      ]
     },
     "metadata": {},
     "output_type": "display_data"
    },
    {
     "data": {
      "text/plain": [
       "<Figure size 1200x600 with 0 Axes>"
      ]
     },
     "metadata": {},
     "output_type": "display_data"
    },
    {
     "data": {
      "text/plain": [
       "<Figure size 1200x600 with 0 Axes>"
      ]
     },
     "metadata": {},
     "output_type": "display_data"
    },
    {
     "data": {
      "text/plain": [
       "<Figure size 1200x600 with 0 Axes>"
      ]
     },
     "metadata": {},
     "output_type": "display_data"
    },
    {
     "data": {
      "text/plain": [
       "<Figure size 1200x600 with 0 Axes>"
      ]
     },
     "metadata": {},
     "output_type": "display_data"
    },
    {
     "data": {
      "text/plain": [
       "<Figure size 1200x600 with 0 Axes>"
      ]
     },
     "metadata": {},
     "output_type": "display_data"
    },
    {
     "data": {
      "text/plain": [
       "<Figure size 1200x600 with 0 Axes>"
      ]
     },
     "metadata": {},
     "output_type": "display_data"
    },
    {
     "data": {
      "text/plain": [
       "<Figure size 1200x600 with 0 Axes>"
      ]
     },
     "metadata": {},
     "output_type": "display_data"
    },
    {
     "data": {
      "text/plain": [
       "<Figure size 1200x600 with 0 Axes>"
      ]
     },
     "metadata": {},
     "output_type": "display_data"
    }
   ],
   "source": [
    "import matplotlib.pyplot as plt\n",
    "import numpy as np\n",
    "from adjustText import adjust_text\n",
    "visualy = ['0(base)'] + [f\"$10^{{{int(np.log10(x))}}}$\" for x in [10**-2, 10**-3, 10**-4, 10**-5, 10**-6]]\n",
    "audioy = [f\"$10^{{{int(np.log10(x))}}}$\" for x in [10,1]] + ['0(base)'] + [f\"$10^{{{int(np.log10(x))}}}$\" for x in [10**-1,10**-2, 10**-3, 10**-4, 10**-5, 10**-6]]\n",
    "multiy = ['0(base)'] + [f\"$10^{{{int(np.log10(x))}}}$\" for x in [10**-2, 10**-3, 10**-4, 10**-5, 10**-6]]\n",
    "\n",
    "\n",
    "# 設定統一的 Y 軸範圍\n",
    "y_min = min(np.min(fscore_v), np.min(map50_v), np.min(map15_v),\n",
    "            np.min(fscore_a), np.min(map50_a), np.min(map15_a),\n",
    "            np.min(fscore_lib), np.min(map50_lib), np.min(map15_lib))\n",
    "y_max = max(np.max(fscore_v), np.max(map50_v), np.max(map15_v),\n",
    "            np.max(fscore_a), np.max(map50_a), np.max(map15_a),\n",
    "            np.max(fscore_lib), np.max(map50_lib), np.max(map15_lib))\n",
    "\n",
    "visual_dir = \"table/IB_0306/visual\"\n",
    "audio_dir = \"table/IB_0306/audio\"\n",
    "multi_lib_dir = \"table/IB_0306/multi/lib\"\n",
    "\n",
    "os.makedirs(visual_dir, exist_ok=True)\n",
    "os.makedirs(audio_dir, exist_ok=True)\n",
    "os.makedirs(multi_lib_dir, exist_ok=True)\n",
    "def plt_function(y_axis, fscore, map50, map15, path_dir, plot_type, cate=cate, label_font=20, ticks_font=16):\n",
    "    \n",
    "    #圖表大小\n",
    "    plt.figure(figsize=(12, 6))\n",
    "    \n",
    "    #圖表圖示&顏色\n",
    "    plt.plot(y_axis, fscore[i], color='red', label='F1', marker='o')\n",
    "    plt.plot(y_axis, map50[i], color='blue', label='MAP50', marker='o')\n",
    "    plt.plot(y_axis, map15[i], color='green', label='MAP15', marker='o')\n",
    "    \n",
    "    texts=[]\n",
    "    for x, y in zip(y_axis, fscore[i]):\n",
    "        texts.append(plt.text(x, y, f\"{y:.2f}\", ha='center', fontsize=16))\n",
    "    for x, y in zip(y_axis, map50[i]):\n",
    "        texts.append(plt.text(x, y, f\"{y:.2f}\", ha='center', fontsize=16))\n",
    "    for x, y in zip(y_axis, map15[i]):\n",
    "        texts.append(plt.text(x, y, f\"{y:.2f}\", ha='center', fontsize=16))\n",
    "        \n",
    "    # 自動調整標籤，避免重疊\n",
    "    adjust_text(texts, only_move={'points': 'y', 'texts': 'y'})#, arrowprops=dict(arrowstyle='simple', color='black'))\n",
    "\n",
    "    # 標題和標籤\n",
    "    plt.title(f\"Different {plot_type} in {cate[i]} ({plot_type})\", fontsize=20)\n",
    "    plt.xlabel(\"beta\", fontsize=label_font)\n",
    "    plt.ylabel(\"score\", fontsize=label_font)\n",
    "    plt.xticks(fontsize=ticks_font)  # 設定 X 軸數值字體大小\n",
    "    plt.yticks(fontsize=ticks_font)  # 設定 Y 軸數值字體大小\n",
    "    # 統一 Y 軸範圍\n",
    "    plt.ylim(0, 70)\n",
    "        \n",
    "    # 添加圖例和網格\n",
    "    plt.legend(loc=\"lower left\")\n",
    "    plt.grid(True)\n",
    "    plt.tight_layout()\n",
    "    # 儲存高解析度圖片\n",
    "    file_path = os.path.join(path_dir, f\"{cate[i]}_{plot_type}.png\")\n",
    "    plt.savefig(file_path, dpi=300)\n",
    "    \n",
    "    # 清除圖表，避免重疊\n",
    "    plt.clf()\n",
    "\n",
    "for i in range(25):\n",
    "    plt_function(visualy, fscore_v, map50_v, map15_v, visual_dir, plot_type=\"visual\")\n",
    "for i in range(25):\n",
    "    plt_function(audioy, fscore_a, map50_a, map15_a, audio_dir, plot_type=\"audio\")\n",
    "for i in range(25):\n",
    "    plt_function(multiy, fscore_lib, map50_lib, map15_lib, multi_lib_dir, plot_type=\"lib\")\n"
   ]
  },
  {
   "cell_type": "code",
   "execution_count": 6,
   "id": "e84f6103-b269-4714-9aed-e7ff28f72ab9",
   "metadata": {},
   "outputs": [
    {
     "name": "stdout",
     "output_type": "stream",
     "text": [
      "5\n",
      "5\n"
     ]
    },
    {
     "data": {
      "image/png": "[encoded data removed]",
      "text/plain": [
       "<Figure size 1200x600 with 1 Axes>"
      ]
     },
     "metadata": {},
     "output_type": "display_data"
    },
    {
     "data": {
      "text/plain": [
       "<Figure size 640x480 with 0 Axes>"
      ]
     },
     "metadata": {},
     "output_type": "display_data"
    }
   ],
   "source": [
    "import matplotlib.pyplot as plt\n",
    "import numpy as np\n",
    "from adjustText import adjust_text\n",
    "fscore_v=[60.926, 64.404,60.131,55.099,63.535]\n",
    "map50_v=[54.915, 55.9,55.306,49.495,50.121]\n",
    "map15_v=[25.693,21.858,21.044,19.204,24.083]\n",
    "visualy = [f\"$10^{{{int(np.log10(x))}}}$\" for x in [10**-2, 10**-3, 10**-4, 10**-5, 10**-6]]\n",
    "print(len(visualy))\n",
    "print(len(fscore_v))\n",
    "# 設定統一的 Y 軸範圍\n",
    "y_min = min(np.min(fscore_v), np.min(map50_v), np.min(map15_v),\n",
    "            np.min(fscore_a), np.min(map50_a), np.min(map15_a))\n",
    "y_max = max(np.max(fscore_v), np.max(map50_v), np.max(map15_v),\n",
    "            np.max(fscore_a), np.max(map50_a), np.max(map15_a))\n",
    "\n",
    "visual_dir = \"table/test/visual\"\n",
    "\n",
    "os.makedirs(visual_dir, exist_ok=True)\n",
    "os.makedirs(audio_dir, exist_ok=True)\n",
    "plt.figure(figsize=(12, 6))\n",
    "\n",
    "# 視覺特徵的圖表\n",
    "plt.plot(visualy, fscore_v, color='red', label='F1', marker='o')\n",
    "plt.plot(visualy, map50_v, color='blue', label='MAP50', marker='o')\n",
    "plt.plot(visualy, map15_v, color='green', label='MAP15', marker='o')\n",
    "texts = []\n",
    "for x, y in zip(visualy, fscore_v):\n",
    "    texts.append(plt.text(x, y, f\"{y:.2f}\", ha='center', fontsize=16))\n",
    "for x, y in zip(visualy, map50_v):\n",
    "    texts.append(plt.text(x, y, f\"{y:.2f}\", ha='center', fontsize=16))\n",
    "for x, y in zip(visualy, map15_v):\n",
    "    texts.append(plt.text(x, y, f\"{y:.2f}\", ha='center', fontsize=16))\n",
    "\n",
    "# 自動調整標籤，避免重疊\n",
    "adjust_text(texts, only_move={'points': 'y', 'texts': 'y'})#, arrowprops=dict(arrowstyle='simple', color='black'))\n",
    "\n",
    "# 標題和標籤\n",
    "plt.title(f\"Different visual in whole (Visual)\", fontsize=20)\n",
    "plt.xlabel(\"visual\", fontsize=20)\n",
    "plt.ylabel(\"score\", fontsize=20)\n",
    "plt.xticks(fontsize=16)  # 設定 X 軸數值字體大小\n",
    "plt.yticks(fontsize=16)  # 設定 Y 軸數值字體大小\n",
    "# 統一 Y 軸範圍\n",
    "plt.ylim(0, 70)\n",
    "    \n",
    "# 添加圖例和網格\n",
    "plt.legend(loc=\"lower left\")\n",
    "plt.grid(True)\n",
    "plt.tight_layout()\n",
    "# 儲存高解析度圖片\n",
    "file_path = os.path.join(visual_dir, f\"{cate[i]}_v.png\")\n",
    "plt.savefig(file_path, dpi=300)\n",
    "plt.show()\n",
    "# 清除圖表，避免重疊\n",
    "plt.clf()"
   ]
  },
  {
   "cell_type": "code",
   "execution_count": null,
   "id": "0382109b-6618-43fa-bae2-3ab4db5c0e7b",
   "metadata": {},
   "outputs": [],
   "source": []
  }
 ],
 "metadata": {
  "kernelspec": {
   "display_name": "Python [conda env:.conda-longvlm]",
   "language": "python",
   "name": "conda-env-.conda-longvlm-py"
  },
  "language_info": {
   "codemirror_mode": {
    "name": "ipython",
    "version": 3
   },
   "file_extension": ".py",
   "mimetype": "text/x-python",
   "name": "python",
   "nbconvert_exporter": "python",
   "pygments_lexer": "ipython3",
   "version": "3.9.19"
  }
 },
 "nbformat": 4,
 "nbformat_minor": 5
}
